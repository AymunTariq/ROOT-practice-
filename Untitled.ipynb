{
 "cells": [
  {
   "cell_type": "code",
   "execution_count": 1,
   "metadata": {},
   "outputs": [
    {
     "ename": "ModuleNotFoundError",
     "evalue": "No module named 'ROOT'",
     "output_type": "error",
     "traceback": [
      "\u001b[1;31m---------------------------------------------------------------------------\u001b[0m",
      "\u001b[1;31mModuleNotFoundError\u001b[0m                       Traceback (most recent call last)",
      "\u001b[1;32m<ipython-input-1-ee8dc4376aa8>\u001b[0m in \u001b[0;36m<module>\u001b[1;34m\u001b[0m\n\u001b[1;32m----> 1\u001b[1;33m \u001b[1;32mimport\u001b[0m \u001b[0mROOT\u001b[0m\u001b[1;33m\u001b[0m\u001b[1;33m\u001b[0m\u001b[0m\n\u001b[0m",
      "\u001b[1;31mModuleNotFoundError\u001b[0m: No module named 'ROOT'"
     ]
    }
   ],
   "source": [
    "import ROOT"
   ]
  },
  {
   "cell_type": "code",
   "execution_count": null,
   "metadata": {},
   "outputs": [],
   "source": [
    "# Select Theano as backend for Keras\n",
    "from os import environ\n",
    "environ['KERAS_BACKEND'] = 'theano'\n",
    "\n",
    "# Set architecture of system (AVX instruction set is not supported on SWAN)\n",
    "environ['THEANO_FLAGS'] = 'gcc.cxxflags=-march=corei7'\n",
    "\n",
    "from keras.models import Sequential\n",
    "from keras.layers.core import Dense, Dropout\n",
    "from keras.optimizers import Adam"
   ]
  },
  {
   "cell_type": "code",
   "execution_count": null,
   "metadata": {},
   "outputs": [],
   "source": [
    "data = ROOT.TFile.Open('https://raw.githubusercontent.com/iml-wg/tmvatutorials/master/inputdata.root')\n",
    "\n",
    "# Get signal and background trees from file\n",
    "signal = data.Get('TreeS')\n",
    "background = data.Get('TreeB')\n",
    "\n",
    "# Add variables to dataloader\n",
    "dataloader = ROOT.TMVA.DataLoader('dataset_pymva')\n",
    "numVariables = len(signal.GetListOfBranches())\n",
    "for branch in signal.GetListOfBranches():\n",
    "    dataloader.AddVariable(branch.GetName())\n",
    "\n",
    "# Add trees to dataloader\n",
    "dataloader.AddSignalTree(signal, 1.0)\n",
    "dataloader.AddBackgroundTree(background, 1.0)\n",
    "trainTestSplit = 0.8\n",
    "dataloader.PrepareTrainingAndTestTree(ROOT.TCut(''),\n",
    "        'TrainTestSplit_Signal={}:'.format(trainTestSplit)+\\\n",
    "        'TrainTestSplit_Background={}:'.format(trainTestSplit)+\\\n",
    "        'SplitMode=Random')"
   ]
  },
  {
   "cell_type": "code",
   "execution_count": null,
   "metadata": {},
   "outputs": [],
   "source": [
    "# Setup TMVA\n",
    "ROOT.TMVA.Tools.Instance()\n",
    "ROOT.TMVA.PyMethodBase.PyInitialize()\n",
    "\n",
    "outputFile = ROOT.TFile.Open('TMVAOutputPyMVA.root', 'RECREATE')\n",
    "factory = ROOT.TMVA.Factory('TMVAClassification', outputFile,\n",
    "        '!V:!Silent:Color:DrawProgressBar:Transformations=I,G:'+\\\n",
    "        'AnalysisType=Classification')"
   ]
  },
  {
   "cell_type": "code",
   "execution_count": null,
   "metadata": {},
   "outputs": [],
   "source": [
    "# Define model\n",
    "model = Sequential()\n",
    "model.add(Dense(32, init='glorot_normal', activation='relu',\n",
    "        input_dim=numVariables))\n",
    "model.add(Dropout(0.5))\n",
    "model.add(Dense(32, init='glorot_normal', activation='relu'))\n",
    "model.add(Dropout(0.5))\n",
    "model.add(Dense(2, init='glorot_uniform', activation='softmax'))\n",
    "\n",
    "# Set loss and optimizer\n",
    "model.compile(loss='categorical_crossentropy', optimizer=Adam(),\n",
    "        metrics=['categorical_accuracy',])\n",
    "\n",
    "# Store model to file\n",
    "model.save('model.h5')\n",
    "\n",
    "# Print summary of model\n",
    "model.summary()"
   ]
  },
  {
   "cell_type": "code",
   "execution_count": null,
   "metadata": {},
   "outputs": [],
   "source": [
    "# Keras interface with previously defined model\n",
    "factory.BookMethod(dataloader, ROOT.TMVA.Types.kPyKeras, 'PyKeras',\n",
    "        'H:!V:VarTransform=G:FilenameModel=model.h5:'+\\\n",
    "        'NumEpochs=10:BatchSize=32:'+\\\n",
    "        'TriesEarlyStopping=3')"
   ]
  },
  {
   "cell_type": "code",
   "execution_count": null,
   "metadata": {},
   "outputs": [],
   "source": [
    "# Gradient tree boosting from scikit-learn package\n",
    "factory.BookMethod(dataloader, ROOT.TMVA.Types.kPyGTB, 'GTB',\n",
    "        'H:!V:VarTransform=None:'+\\\n",
    "        'NEstimators=100:LearningRate=0.1:MaxDepth=3')"
   ]
  },
  {
   "cell_type": "code",
   "execution_count": null,
   "metadata": {},
   "outputs": [],
   "source": [
    "factory.TrainAllMethods()"
   ]
  },
  {
   "cell_type": "code",
   "execution_count": null,
   "metadata": {},
   "outputs": [],
   "source": [
    "factory.TestAllMethods()"
   ]
  },
  {
   "cell_type": "code",
   "execution_count": null,
   "metadata": {},
   "outputs": [],
   "source": [
    "factory.EvaluateAllMethods()"
   ]
  },
  {
   "cell_type": "code",
   "execution_count": null,
   "metadata": {},
   "outputs": [],
   "source": [
    "# Enable Javascript for ROOT so that we can draw the canvas\n",
    "%jsroot on\n",
    "\n",
    "# Print ROC\n",
    "canvas = factory.GetROCCurve(dataloader)\n",
    "canvas.Draw()"
   ]
  },
  {
   "cell_type": "code",
   "execution_count": null,
   "metadata": {},
   "outputs": [],
   "source": []
  }
 ],
 "metadata": {
  "kernelspec": {
   "display_name": "Python 3",
   "language": "python",
   "name": "python3"
  },
  "language_info": {
   "codemirror_mode": {
    "name": "ipython",
    "version": 3
   },
   "file_extension": ".py",
   "mimetype": "text/x-python",
   "name": "python",
   "nbconvert_exporter": "python",
   "pygments_lexer": "ipython3",
   "version": "3.7.3"
  }
 },
 "nbformat": 4,
 "nbformat_minor": 2
}
